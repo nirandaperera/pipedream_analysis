{
 "cells": [
  {
   "cell_type": "code",
   "execution_count": 1,
   "metadata": {},
   "outputs": [],
   "source": [
    "data_dir='/N/u2/d/dnperera/git/pipedream/runtime/image_classification/logs_dp/models.alexnet.gpus=4_straight'\n",
    "num_workers=4\n",
    "batch_sizes = [16, 32, 64, 128, 256, 1024]\n"
   ]
  },
  {
   "cell_type": "code",
   "execution_count": 16,
   "metadata": {},
   "outputs": [],
   "source": [
    "import re\n",
    "import numpy as np \n",
    "\n",
    "def process_data(fr, fq, br, bq):\n",
    "    assert len(fr['rank']) == len(br['rank']) and len(fq['rank']) == len(bq['rank'])\n",
    "   \n",
    "    ranks = max(fr['rank']) + 1\n",
    "    assert ranks == num_workers\n",
    "    \n",
    "    epochs = max(fr['epoch']) + 1\n",
    "    batches = max(fr['batch']) + 1\n",
    "    assert batches == fr['batches'][0] ## in the log +1 is already calculated\n",
    "    \n",
    "    data = np.zeros((ranks, epochs, batches, 4))\n",
    "    \n",
    "    def set_ts(d, idx):\n",
    "        for i in range(len(d['ts'])):\n",
    "            data[d['rank'][i], d['epoch'][i], d['batch'][i], idx] = d['ts'][i]\n",
    "        \n",
    "    set_ts(fr, 0)\n",
    "    set_ts(fq, 1)\n",
    "    set_ts(br, 2)\n",
    "    set_ts(bq, 3)\n",
    "\n",
    "    return data\n",
    "\n",
    "def process_line(l, d):\n",
    "    splits = re.split(':\\W*|/| ',l)\n",
    "    \n",
    "    d['rank'].append(int(splits[3]))\n",
    "    d['epoch'].append(int(splits[5]))\n",
    "    d['batch'].append(int(splits[7]))\n",
    "    d['batches'].append(int(splits[8]))\n",
    "    d['ts'].append(float(splits[10]))\n",
    "\n",
    "def process_file(file):\n",
    "    with open(file) as fp: \n",
    "        lines = fp.readlines()      \n",
    "        \n",
    "        for l in lines:\n",
    "            if l.startswith('### fwd_rcvd'):\n",
    "                process_line(l, fwd_rcvd)\n",
    "            elif l.startswith('### bwd_rcvd'):\n",
    "                process_line(l, bwd_rcvd)\n",
    "            elif l.startswith('### fwd_snd_q'):\n",
    "                process_line(l, fwd_snd_q)\n",
    "            elif l.startswith('### bwd_snd_q'):\n",
    "                process_line(l, bwd_snd_q)\n",
    "        \n",
    "        assert len(fwd_rcvd['rank']) == len(bwd_rcvd['rank']) and len(fwd_snd_q['rank']) == len(bwd_snd_q['rank'])\n",
    "        \n",
    "        print(f\"{file} done!\")  \n",
    "\n",
    "        "
   ]
  },
  {
   "cell_type": "code",
   "execution_count": 17,
   "metadata": {},
   "outputs": [
    {
     "name": "stdout",
     "output_type": "stream",
     "text": [
      "/N/u2/d/dnperera/git/pipedream/runtime/image_classification/logs_dp/models.alexnet.gpus=4_straight/512_0.log done!\n",
      "/N/u2/d/dnperera/git/pipedream/runtime/image_classification/logs_dp/models.alexnet.gpus=4_straight/512_1.log done!\n",
      "/N/u2/d/dnperera/git/pipedream/runtime/image_classification/logs_dp/models.alexnet.gpus=4_straight/512_2.log done!\n",
      "/N/u2/d/dnperera/git/pipedream/runtime/image_classification/logs_dp/models.alexnet.gpus=4_straight/512_3.log done!\n"
     ]
    }
   ],
   "source": [
    "fwd_rcvd = {\n",
    "    'rank':[],\n",
    "    'epoch':[],\n",
    "    'batch':[],\n",
    "    'batches':[],\n",
    "    'ts':[],\n",
    "}\n",
    "fwd_snd_q = {\n",
    "    'rank':[],\n",
    "    'epoch':[],\n",
    "    'batch':[],\n",
    "    'batches':[],\n",
    "    'ts':[],\n",
    "}\n",
    "\n",
    "bwd_rcvd = {\n",
    "    'rank':[],\n",
    "    'epoch':[],\n",
    "    'batch':[],\n",
    "    'batches':[],\n",
    "    'ts':[],\n",
    "}\n",
    "\n",
    "bwd_snd_q = {\n",
    "    'rank':[],\n",
    "    'epoch':[],\n",
    "    'batch':[],\n",
    "    'batches':[],\n",
    "    'ts':[],\n",
    "}\n",
    "\n",
    "batch_size = 512\n",
    "for w in range(num_workers):\n",
    "    file = f\"{data_dir}/{batch_size}_{w}.log\"\n",
    "    process_file(file)\n",
    "    \n",
    "data = process_data(fwd_rcvd, fwd_snd_q, bwd_rcvd, bwd_snd_q)"
   ]
  },
  {
   "cell_type": "code",
   "execution_count": 23,
   "metadata": {},
   "outputs": [
    {
     "name": "stdout",
     "output_type": "stream",
     "text": [
      "30387.00008392334\n",
      "62096.99988365173\n"
     ]
    },
    {
     "data": {
      "image/png": "[encoded data removed]",
      "text/plain": [
       "<Figure size 864x216 with 1 Axes>"
      ]
     },
     "metadata": {
      "needs_background": "light"
     },
     "output_type": "display_data"
    },
    {
     "data": {
      "image/png": "[encoded data removed]",
      "text/plain": [
       "<Figure size 864x216 with 1 Axes>"
      ]
     },
     "metadata": {
      "needs_background": "light"
     },
     "output_type": "display_data"
    }
   ],
   "source": [
    "import matplotlib.pyplot as plt\n",
    "import matplotlib.cm as cm\n",
    "from matplotlib.colors import Normalize\n",
    "import matplotlib.patheffects as PathEffects\n",
    "\n",
    "cmap = cm.prism\n",
    "\n",
    "\n",
    "rdata = (data - np.min(data))*1000\n",
    "\n",
    "\n",
    "ranks = np.shape(rdata)[0]\n",
    "epochs = np.shape(rdata)[1]\n",
    "batches = np.shape(rdata)[2]\n",
    "batches = min(25, batches) \n",
    "\n",
    "norm = Normalize(vmin=0, vmax=batches)\n",
    "\n",
    "for e in range(epochs):\n",
    "    fig, ax = plt.subplots(figsize=(12, 3))\n",
    "\n",
    "    ax.set_ylim(0, ranks) # 0..ranks \n",
    "\n",
    "    ax.set_xlim(np.min(rdata[:, e, 0:batches])*0.99, np.max(rdata[:, e, 0:batches])*1.01)\n",
    "    print(np.max(rdata[:, e, 0:batches]))\n",
    "\n",
    "    ax.set_xlabel(\"relative time ms\")\n",
    "\n",
    "    ax.set_yticks(list(range(ranks)))\n",
    "    ax.set_ylabel(\"rank\")\n",
    "\n",
    "    path_effects = [PathEffects.withStroke(linewidth=0.1, foreground='w')]\n",
    "\n",
    "    for r in range(ranks):\n",
    "        for i in range(batches):\n",
    "            col = cmap(norm(i))\n",
    "            ts = rdata[r, e, i]\n",
    "            ax.broken_barh([(ts[0], ts[1]-ts[0]), (ts[2], ts[3]-ts[2])], (r, 1), facecolors=col)\n",
    "            annot_y = r + i/batches\n",
    "            ax.text(ts[0], annot_y, f\"+{i}\", fontsize=1, ha='left', c=col, path_effects=path_effects)\n",
    "            ax.text(ts[2], annot_y, f\"-{i}\", fontsize=1, ha='left', c=col, path_effects=path_effects)\n",
    "            ax.yaxis.grid(True)\n",
    "\n",
    "\n",
    "    # plt.figure(figsize=(20,10))\n",
    "    plt.savefig(f\"dp_{data_dir.split('/')[-1]}_{batch_size}_{e}.png\", dpi=1024) \n"
   ]
  },
  {
   "cell_type": "code",
   "execution_count": 21,
   "metadata": {},
   "outputs": [
    {
     "name": "stdout",
     "output_type": "stream",
     "text": [
      "dp_models.alexnet.gpus=4_straight_512.csv complete!\n"
     ]
    }
   ],
   "source": [
    "# save data to csv\n",
    "fname = f\"dp_{data_dir.split('/')[-1]}_{batch_size}.csv\"\n",
    "with open(fname, \"w\") as f:\n",
    "    f.write(\"batch_size,epoch,rank,batch,fwd_start_ts, fwd_end_ts, bwd_start_ts, bwd_end_ts\\n\")\n",
    "    shape = np.shape(data)\n",
    "    for r in range(shape[0]):\n",
    "        for e in range(shape[1]):\n",
    "            for b in range(shape[2]):\n",
    "                ts = data[r, e, b]\n",
    "                f.write(f\"{batch_size}, {e}, {r}, {b}, {ts[0]}, {ts[1]}, {ts[2]}, {ts[3]}\\n\")\n",
    "print(f\"{fname} complete!\")                \n",
    "        "
   ]
  }
 ],
 "metadata": {
  "kernelspec": {
   "display_name": "Python 3",
   "language": "python",
   "name": "python3"
  },
  "language_info": {
   "codemirror_mode": {
    "name": "ipython",
    "version": 3
   },
   "file_extension": ".py",
   "mimetype": "text/x-python",
   "name": "python",
   "nbconvert_exporter": "python",
   "pygments_lexer": "ipython3",
   "version": "3.6.5"
  }
 },
 "nbformat": 4,
 "nbformat_minor": 4
}
